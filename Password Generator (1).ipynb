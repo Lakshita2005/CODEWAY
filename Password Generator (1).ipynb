{
 "cells": [
  {
   "cell_type": "code",
   "execution_count": 5,
   "id": "c90a310e",
   "metadata": {},
   "outputs": [
    {
     "name": "stdout",
     "output_type": "stream",
     "text": [
      "Enter the length of the password6\n",
      "Generated Password: Jk{'Ca\n"
     ]
    }
   ],
   "source": [
    "import string\n",
    "import random\n",
    "\n",
    "def generate_password(length):\n",
    "    \"\"\"Generate a random password.\"\"\"\n",
    "    # Define the character sets to use for generating the password\n",
    "    uppercase_letters = string.ascii_uppercase\n",
    "    lowercase_letters = string.ascii_lowercase\n",
    "    digits = string.digits\n",
    "    special_characters = string.punctuation\n",
    "\n",
    "    # Combine all character sets\n",
    "    all_characters = uppercase_letters + lowercase_letters + digits + special_characters\n",
    "\n",
    "    # Ensure that the password length is at least 4 characters\n",
    "    if length < 4:\n",
    "        print(\"Password length must be at least 4 characters.\")\n",
    "        return None\n",
    "\n",
    "    # Generate a password\n",
    "    password = ''.join(random.sample(all_characters, length))\n",
    "    \n",
    "    return password\n",
    "\n",
    "# Example usage:\n",
    "password_length = int(input(\"Enter the length of the password\"))\n",
    "generated_password = generate_password(password_length)\n",
    "print(\"Generated Password:\", generated_password)\n"
   ]
  },
  {
   "cell_type": "code",
   "execution_count": null,
   "id": "25e12542",
   "metadata": {},
   "outputs": [],
   "source": []
  }
 ],
 "metadata": {
  "kernelspec": {
   "display_name": "Python 3 (ipykernel)",
   "language": "python",
   "name": "python3"
  },
  "language_info": {
   "codemirror_mode": {
    "name": "ipython",
    "version": 3
   },
   "file_extension": ".py",
   "mimetype": "text/x-python",
   "name": "python",
   "nbconvert_exporter": "python",
   "pygments_lexer": "ipython3",
   "version": "3.11.5"
  }
 },
 "nbformat": 4,
 "nbformat_minor": 5
}
