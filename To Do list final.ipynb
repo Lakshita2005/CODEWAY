{
 "cells": [
  {
   "cell_type": "code",
   "execution_count": null,
   "id": "f47a9508",
   "metadata": {},
   "outputs": [],
   "source": [
    "import tkinter as tk\n",
    "\n",
    "def add_task():\n",
    "    task = entry_task.get()\n",
    "    if task:\n",
    "        todo_listbox.insert(tk.END, task)\n",
    "        entry_task.delete(0, tk.END)\n",
    "\n",
    "def remove_task():\n",
    "    selected_task_index = todo_listbox.curselection()\n",
    "    if selected_task_index:\n",
    "        todo_listbox.delete(selected_task_index[0])  \n",
    "\n",
    "# Create the main window\n",
    "root = tk.Tk()\n",
    "root.title(\"To-Do List\")\n",
    "\n",
    "# Create a frame for the input field and buttons\n",
    "frame_input = tk.Frame(root)\n",
    "frame_input.pack(pady=10)\n",
    "\n",
    "# Create an entry field for adding tasks\n",
    "entry_task = tk.Entry(frame_input, width=40)\n",
    "entry_task.grid(row=0, column=0, padx=5)\n",
    "\n",
    "# Create an \"Add Task\" button\n",
    "btn_add_task = tk.Button(frame_input, text=\"Add Task\", width=10, command=add_task)\n",
    "btn_add_task.grid(row=0, column=1, padx=5)\n",
    "\n",
    "# Create a frame for the to-do list\n",
    "frame_list = tk.Frame(root)\n",
    "frame_list.pack(padx=10, pady=5)\n",
    "\n",
    "# Create a listbox to display tasks\n",
    "todo_listbox = tk.Listbox(frame_list, width=50, height=15)\n",
    "todo_listbox.pack(side=tk.LEFT, fill=tk.BOTH)\n",
    "\n",
    "# Create a scrollbar for the listbox\n",
    "scrollbar = tk.Scrollbar(frame_list, orient=tk.VERTICAL)\n",
    "scrollbar.pack(side=tk.RIGHT, fill=tk.Y)\n",
    "\n",
    "# Link scrollbar to listbox\n",
    "todo_listbox.config(yscrollcommand=scrollbar.set)\n",
    "scrollbar.config(command=todo_listbox.yview)\n",
    "\n",
    "# Create a \"Remove Task\" button\n",
    "btn_remove_task = tk.Button(root, text=\"Remove Task\", width=10, command=remove_task)\n",
    "btn_remove_task.pack(pady=5)\n",
    "\n",
    "# Run the application\n",
    "root.mainloop()\n"
   ]
  },
  {
   "cell_type": "code",
   "execution_count": null,
   "id": "103081df",
   "metadata": {},
   "outputs": [],
   "source": []
  },
  {
   "cell_type": "code",
   "execution_count": null,
   "id": "9a5c8a8a",
   "metadata": {},
   "outputs": [],
   "source": []
  }
 ],
 "metadata": {
  "kernelspec": {
   "display_name": "Python 3 (ipykernel)",
   "language": "python",
   "name": "python3"
  },
  "language_info": {
   "codemirror_mode": {
    "name": "ipython",
    "version": 3
   },
   "file_extension": ".py",
   "mimetype": "text/x-python",
   "name": "python",
   "nbconvert_exporter": "python",
   "pygments_lexer": "ipython3",
   "version": "3.11.5"
  }
 },
 "nbformat": 4,
 "nbformat_minor": 5
}
